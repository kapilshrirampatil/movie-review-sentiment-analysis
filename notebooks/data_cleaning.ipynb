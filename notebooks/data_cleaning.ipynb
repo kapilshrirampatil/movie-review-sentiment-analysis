{
 "cells": [
  {
   "cell_type": "code",
   "execution_count": 1,
   "id": "f4175a1a-d1bc-4594-b17d-9b6007ad63d5",
   "metadata": {},
   "outputs": [],
   "source": [
    "import pandas as pd\n",
    "import numpy as np\n",
    "import re\n",
    "import nltk\n",
    "from nltk.tokenize import sent_tokenize,word_tokenize\n",
    "import contractions\n",
    "from nltk.corpus import stopwords\n",
    "from string import punctuation"
   ]
  },
  {
   "cell_type": "code",
   "execution_count": 2,
   "id": "abe7dc6a-2822-43e3-a27f-f5f0e1b96524",
   "metadata": {},
   "outputs": [
    {
     "data": {
      "text/html": [
       "<div>\n",
       "<style scoped>\n",
       "    .dataframe tbody tr th:only-of-type {\n",
       "        vertical-align: middle;\n",
       "    }\n",
       "\n",
       "    .dataframe tbody tr th {\n",
       "        vertical-align: top;\n",
       "    }\n",
       "\n",
       "    .dataframe thead th {\n",
       "        text-align: right;\n",
       "    }\n",
       "</style>\n",
       "<table border=\"1\" class=\"dataframe\">\n",
       "  <thead>\n",
       "    <tr style=\"text-align: right;\">\n",
       "      <th></th>\n",
       "      <th>text</th>\n",
       "      <th>label</th>\n",
       "    </tr>\n",
       "  </thead>\n",
       "  <tbody>\n",
       "    <tr>\n",
       "      <th>0</th>\n",
       "      <td>I grew up (b. 1965) watching and loving the Th...</td>\n",
       "      <td>0</td>\n",
       "    </tr>\n",
       "    <tr>\n",
       "      <th>1</th>\n",
       "      <td>When I put this movie in my DVD player, and sa...</td>\n",
       "      <td>0</td>\n",
       "    </tr>\n",
       "    <tr>\n",
       "      <th>2</th>\n",
       "      <td>Why do people who do not know what a particula...</td>\n",
       "      <td>0</td>\n",
       "    </tr>\n",
       "    <tr>\n",
       "      <th>3</th>\n",
       "      <td>Even though I have great interest in Biblical ...</td>\n",
       "      <td>0</td>\n",
       "    </tr>\n",
       "    <tr>\n",
       "      <th>4</th>\n",
       "      <td>Im a die hard Dads Army fan and nothing will e...</td>\n",
       "      <td>1</td>\n",
       "    </tr>\n",
       "  </tbody>\n",
       "</table>\n",
       "</div>"
      ],
      "text/plain": [
       "                                                text  label\n",
       "0  I grew up (b. 1965) watching and loving the Th...      0\n",
       "1  When I put this movie in my DVD player, and sa...      0\n",
       "2  Why do people who do not know what a particula...      0\n",
       "3  Even though I have great interest in Biblical ...      0\n",
       "4  Im a die hard Dads Army fan and nothing will e...      1"
      ]
     },
     "execution_count": 2,
     "metadata": {},
     "output_type": "execute_result"
    }
   ],
   "source": [
    "df = pd.read_csv('movie.csv')\n",
    "df.head()"
   ]
  },
  {
   "cell_type": "code",
   "execution_count": 3,
   "id": "51804621-0e6b-4f14-9783-72a6742ebd01",
   "metadata": {},
   "outputs": [
    {
     "data": {
      "text/plain": [
       "(40000, 2)"
      ]
     },
     "execution_count": 3,
     "metadata": {},
     "output_type": "execute_result"
    }
   ],
   "source": [
    "df.shape"
   ]
  },
  {
   "cell_type": "code",
   "execution_count": 4,
   "id": "ac147862-4891-4960-9b1d-2647d155a0db",
   "metadata": {},
   "outputs": [
    {
     "data": {
      "text/plain": [
       "text     0\n",
       "label    0\n",
       "dtype: int64"
      ]
     },
     "execution_count": 4,
     "metadata": {},
     "output_type": "execute_result"
    }
   ],
   "source": [
    "df.isna().sum()"
   ]
  },
  {
   "cell_type": "code",
   "execution_count": 5,
   "id": "53f7e749-8d5d-434d-bd60-dfb4a83b6aa7",
   "metadata": {},
   "outputs": [
    {
     "data": {
      "text/plain": [
       "277"
      ]
     },
     "execution_count": 5,
     "metadata": {},
     "output_type": "execute_result"
    }
   ],
   "source": [
    "df.duplicated().sum()"
   ]
  },
  {
   "cell_type": "code",
   "execution_count": 6,
   "id": "0cefefbf-674a-4328-a7d0-1c7b998572e1",
   "metadata": {},
   "outputs": [],
   "source": [
    "df.drop_duplicates(inplace=True)"
   ]
  },
  {
   "cell_type": "code",
   "execution_count": 7,
   "id": "d4ffb318-dae9-475c-a181-d7739e5230ad",
   "metadata": {},
   "outputs": [
    {
     "data": {
      "text/plain": [
       "label\n",
       "1    19908\n",
       "0    19815\n",
       "Name: count, dtype: int64"
      ]
     },
     "execution_count": 7,
     "metadata": {},
     "output_type": "execute_result"
    }
   ],
   "source": [
    "df['label'].value_counts()"
   ]
  },
  {
   "cell_type": "code",
   "execution_count": 8,
   "id": "dddc9c44-cb72-4a70-9a4e-2d0f4e12f584",
   "metadata": {},
   "outputs": [
    {
     "name": "stderr",
     "output_type": "stream",
     "text": [
      "<>:6: SyntaxWarning: invalid escape sequence '\\S'\n",
      "<>:6: SyntaxWarning: invalid escape sequence '\\S'\n",
      "C:\\Users\\kapil\\AppData\\Local\\Temp\\ipykernel_6740\\2681458835.py:6: SyntaxWarning: invalid escape sequence '\\S'\n",
      "  pattern = 'https?://\\S*|www\\.\\S*'\n"
     ]
    }
   ],
   "source": [
    "def remove_html_tags(x):\n",
    "    text = re.sub('<.+>','',x)\n",
    "    return text\n",
    "\n",
    "def remove_links(x):\n",
    "    pattern = 'https?://\\S*|www\\.\\S*'\n",
    "    text = re.sub(pattern,'',x)\n",
    "    return text"
   ]
  },
  {
   "cell_type": "code",
   "execution_count": 9,
   "id": "da56392b-52ab-4acd-93d3-1b0b6bc58749",
   "metadata": {},
   "outputs": [],
   "source": [
    "df['text'] = df['text'].apply(remove_html_tags)\n",
    "df['text'] = df['text'].apply(remove_links)\n",
    "df['text'] = df['text'].str.lower()\n",
    "\n",
    "df['text'] = df['text'].apply(lambda x:contractions.fix(x))"
   ]
  },
  {
   "cell_type": "code",
   "execution_count": 10,
   "id": "8ac60d4f-da2e-4015-a215-e88fc4461ea9",
   "metadata": {},
   "outputs": [],
   "source": [
    "stop_word_list = stopwords.words('english')"
   ]
  },
  {
   "cell_type": "code",
   "execution_count": 11,
   "id": "143a022d-68e6-4a47-8b55-ff317ad3a16b",
   "metadata": {},
   "outputs": [
    {
     "data": {
      "text/plain": [
       "['a',\n",
       " 'about',\n",
       " 'above',\n",
       " 'after',\n",
       " 'again',\n",
       " 'against',\n",
       " 'ain',\n",
       " 'all',\n",
       " 'am',\n",
       " 'an',\n",
       " 'and',\n",
       " 'any',\n",
       " 'are',\n",
       " 'aren',\n",
       " \"aren't\",\n",
       " 'as',\n",
       " 'at',\n",
       " 'be',\n",
       " 'because',\n",
       " 'been',\n",
       " 'before',\n",
       " 'being',\n",
       " 'below',\n",
       " 'between',\n",
       " 'both',\n",
       " 'but',\n",
       " 'by',\n",
       " 'can',\n",
       " 'couldn',\n",
       " \"couldn't\",\n",
       " 'd',\n",
       " 'did',\n",
       " 'didn',\n",
       " \"didn't\",\n",
       " 'do',\n",
       " 'does',\n",
       " 'doesn',\n",
       " \"doesn't\",\n",
       " 'doing',\n",
       " 'don',\n",
       " \"don't\",\n",
       " 'down',\n",
       " 'during',\n",
       " 'each',\n",
       " 'few',\n",
       " 'for',\n",
       " 'from',\n",
       " 'further',\n",
       " 'had',\n",
       " 'hadn',\n",
       " \"hadn't\",\n",
       " 'has',\n",
       " 'hasn',\n",
       " \"hasn't\",\n",
       " 'have',\n",
       " 'haven',\n",
       " \"haven't\",\n",
       " 'having',\n",
       " 'he',\n",
       " \"he'd\",\n",
       " \"he'll\",\n",
       " 'her',\n",
       " 'here',\n",
       " 'hers',\n",
       " 'herself',\n",
       " \"he's\",\n",
       " 'him',\n",
       " 'himself',\n",
       " 'his',\n",
       " 'how',\n",
       " 'i',\n",
       " \"i'd\",\n",
       " 'if',\n",
       " \"i'll\",\n",
       " \"i'm\",\n",
       " 'in',\n",
       " 'into',\n",
       " 'is',\n",
       " 'isn',\n",
       " \"isn't\",\n",
       " 'it',\n",
       " \"it'd\",\n",
       " \"it'll\",\n",
       " \"it's\",\n",
       " 'its',\n",
       " 'itself',\n",
       " \"i've\",\n",
       " 'just',\n",
       " 'll',\n",
       " 'm',\n",
       " 'ma',\n",
       " 'me',\n",
       " 'mightn',\n",
       " \"mightn't\",\n",
       " 'more',\n",
       " 'most',\n",
       " 'mustn',\n",
       " \"mustn't\",\n",
       " 'my',\n",
       " 'myself',\n",
       " 'needn',\n",
       " \"needn't\",\n",
       " 'now',\n",
       " 'o',\n",
       " 'of',\n",
       " 'off',\n",
       " 'on',\n",
       " 'once',\n",
       " 'only',\n",
       " 'or',\n",
       " 'other',\n",
       " 'our',\n",
       " 'ours',\n",
       " 'ourselves',\n",
       " 'out',\n",
       " 'over',\n",
       " 'own',\n",
       " 're',\n",
       " 's',\n",
       " 'same',\n",
       " 'shan',\n",
       " \"shan't\",\n",
       " 'she',\n",
       " \"she'd\",\n",
       " \"she'll\",\n",
       " \"she's\",\n",
       " 'should',\n",
       " 'shouldn',\n",
       " \"shouldn't\",\n",
       " \"should've\",\n",
       " 'so',\n",
       " 'some',\n",
       " 'such',\n",
       " 't',\n",
       " 'than',\n",
       " 'that',\n",
       " \"that'll\",\n",
       " 'the',\n",
       " 'their',\n",
       " 'theirs',\n",
       " 'them',\n",
       " 'themselves',\n",
       " 'then',\n",
       " 'there',\n",
       " 'these',\n",
       " 'they',\n",
       " \"they'd\",\n",
       " \"they'll\",\n",
       " \"they're\",\n",
       " \"they've\",\n",
       " 'this',\n",
       " 'those',\n",
       " 'through',\n",
       " 'to',\n",
       " 'too',\n",
       " 'under',\n",
       " 'until',\n",
       " 'up',\n",
       " 've',\n",
       " 'very',\n",
       " 'was',\n",
       " 'wasn',\n",
       " \"wasn't\",\n",
       " 'we',\n",
       " \"we'd\",\n",
       " \"we'll\",\n",
       " \"we're\",\n",
       " 'were',\n",
       " 'weren',\n",
       " \"weren't\",\n",
       " \"we've\",\n",
       " 'what',\n",
       " 'when',\n",
       " 'where',\n",
       " 'which',\n",
       " 'while',\n",
       " 'who',\n",
       " 'whom',\n",
       " 'why',\n",
       " 'will',\n",
       " 'with',\n",
       " 'won',\n",
       " \"won't\",\n",
       " 'wouldn',\n",
       " \"wouldn't\",\n",
       " 'y',\n",
       " 'you',\n",
       " \"you'd\",\n",
       " \"you'll\",\n",
       " 'your',\n",
       " \"you're\",\n",
       " 'yours',\n",
       " 'yourself',\n",
       " 'yourselves',\n",
       " \"you've\"]"
      ]
     },
     "execution_count": 11,
     "metadata": {},
     "output_type": "execute_result"
    }
   ],
   "source": [
    "stop_words = []\n",
    "for i in stop_word_list:\n",
    "    if i not in [\"nor\",'no','not',]:\n",
    "        stop_words.append(i)\n",
    "\n",
    "stop_words"
   ]
  },
  {
   "cell_type": "code",
   "execution_count": 12,
   "id": "d8be727d-8756-46aa-82d0-6828e8de4fcf",
   "metadata": {},
   "outputs": [],
   "source": [
    "def remove_punctuations(x):\n",
    "    string = ''\n",
    "    for i in x:\n",
    "        if i not in punctuation:\n",
    "            string = string + i\n",
    "    return string"
   ]
  },
  {
   "cell_type": "code",
   "execution_count": 13,
   "id": "99259065-46fd-49a4-a00b-3b4226b15647",
   "metadata": {},
   "outputs": [],
   "source": [
    "df['clean_text'] = df['text'].apply(remove_punctuations)"
   ]
  },
  {
   "cell_type": "code",
   "execution_count": 14,
   "id": "105c2be0-68f2-4575-aa5b-ee5176c746e3",
   "metadata": {},
   "outputs": [],
   "source": [
    "def remove_stopwords(x):\n",
    "    l1 = []\n",
    "    for i in x.split(' '):\n",
    "        if i not in stop_words:\n",
    "            l1.append(i)\n",
    "    return \" \".join(l1)"
   ]
  },
  {
   "cell_type": "code",
   "execution_count": 15,
   "id": "14379b8b-ff9b-40ec-be35-52a6f487e35c",
   "metadata": {},
   "outputs": [],
   "source": [
    "df['clean_text'] = df['clean_text'].apply(remove_stopwords)"
   ]
  },
  {
   "cell_type": "code",
   "execution_count": 17,
   "id": "87298262-0627-4a7c-bfea-4a2d367ea9ca",
   "metadata": {},
   "outputs": [],
   "source": [
    "df['clean_text'] = df['clean_text'].apply(lambda x:word_tokenize(x))"
   ]
  },
  {
   "cell_type": "code",
   "execution_count": 20,
   "id": "f32e5b63-dd7f-4e4d-9429-2dc49b8b038b",
   "metadata": {},
   "outputs": [],
   "source": [
    "df['total_words'] = df['clean_text'].apply(lambda x:len(x))\n",
    "df['total_char'] = df['clean_text'].apply(lambda x:len(\" \".join(x)))"
   ]
  },
  {
   "cell_type": "code",
   "execution_count": 24,
   "id": "0c6c543a-354d-4629-ba94-fdf9eef12a5c",
   "metadata": {},
   "outputs": [],
   "source": [
    "df['total_sent'] = df['text'].apply(lambda x:len(sent_tokenize(x)))"
   ]
  },
  {
   "cell_type": "code",
   "execution_count": 26,
   "id": "e056054f-ba08-4a7c-b1e0-2567b4403000",
   "metadata": {},
   "outputs": [],
   "source": [
    "from nltk.stem import PorterStemmer"
   ]
  },
  {
   "cell_type": "code",
   "execution_count": 31,
   "id": "a4f75041-53f4-4a67-8504-90b98f6e0c6f",
   "metadata": {},
   "outputs": [],
   "source": [
    "def stemming(x):\n",
    "    l = []\n",
    "    stemmer = PorterStemmer()\n",
    "    for i in x:\n",
    "        l.append(stemmer.stem(i))\n",
    "    return l"
   ]
  },
  {
   "cell_type": "code",
   "execution_count": 34,
   "id": "6f2445c2-5e68-4e35-8e68-5d5b5169e250",
   "metadata": {},
   "outputs": [],
   "source": [
    "df['clean_text'] = df['clean_text'].apply(stemming)"
   ]
  },
  {
   "cell_type": "code",
   "execution_count": 36,
   "id": "d7fbc964-8d92-4736-9f6d-e9e450806797",
   "metadata": {},
   "outputs": [],
   "source": [
    "df.to_csv('clean_reviews.csv',index = False)"
   ]
  },
  {
   "cell_type": "code",
   "execution_count": 35,
   "id": "2695ba6f-7859-4fc2-ae31-bddfbea744c4",
   "metadata": {},
   "outputs": [
    {
     "data": {
      "text/html": [
       "<div>\n",
       "<style scoped>\n",
       "    .dataframe tbody tr th:only-of-type {\n",
       "        vertical-align: middle;\n",
       "    }\n",
       "\n",
       "    .dataframe tbody tr th {\n",
       "        vertical-align: top;\n",
       "    }\n",
       "\n",
       "    .dataframe thead th {\n",
       "        text-align: right;\n",
       "    }\n",
       "</style>\n",
       "<table border=\"1\" class=\"dataframe\">\n",
       "  <thead>\n",
       "    <tr style=\"text-align: right;\">\n",
       "      <th></th>\n",
       "      <th>text</th>\n",
       "      <th>label</th>\n",
       "      <th>clean_text</th>\n",
       "      <th>total_words</th>\n",
       "      <th>total_char</th>\n",
       "      <th>total_sent</th>\n",
       "    </tr>\n",
       "  </thead>\n",
       "  <tbody>\n",
       "    <tr>\n",
       "      <th>0</th>\n",
       "      <td>i grew up (b. 1965) watching and loving the th...</td>\n",
       "      <td>0</td>\n",
       "      <td>[grew, b, 1965, watch, love, thunderbird, mate...</td>\n",
       "      <td>89</td>\n",
       "      <td>622</td>\n",
       "      <td>17</td>\n",
       "    </tr>\n",
       "    <tr>\n",
       "      <th>1</th>\n",
       "      <td>when i put this movie in my dvd player, and sa...</td>\n",
       "      <td>0</td>\n",
       "      <td>[put, movi, dvd, player, sat, coke, chip, expe...</td>\n",
       "      <td>94</td>\n",
       "      <td>649</td>\n",
       "      <td>8</td>\n",
       "    </tr>\n",
       "    <tr>\n",
       "      <th>2</th>\n",
       "      <td>why do people who do not know what a particula...</td>\n",
       "      <td>0</td>\n",
       "      <td>[peopl, not, know, particular, time, past, lik...</td>\n",
       "      <td>96</td>\n",
       "      <td>623</td>\n",
       "      <td>9</td>\n",
       "    </tr>\n",
       "    <tr>\n",
       "      <th>3</th>\n",
       "      <td>even though i have great interest in biblical ...</td>\n",
       "      <td>0</td>\n",
       "      <td>[even, though, great, interest, biblic, movi, ...</td>\n",
       "      <td>34</td>\n",
       "      <td>216</td>\n",
       "      <td>5</td>\n",
       "    </tr>\n",
       "    <tr>\n",
       "      <th>4</th>\n",
       "      <td>i am a die hard dads army fan and nothing will...</td>\n",
       "      <td>1</td>\n",
       "      <td>[die, hard, dad, armi, fan, noth, ever, chang,...</td>\n",
       "      <td>57</td>\n",
       "      <td>335</td>\n",
       "      <td>5</td>\n",
       "    </tr>\n",
       "    <tr>\n",
       "      <th>...</th>\n",
       "      <td>...</td>\n",
       "      <td>...</td>\n",
       "      <td>...</td>\n",
       "      <td>...</td>\n",
       "      <td>...</td>\n",
       "      <td>...</td>\n",
       "    </tr>\n",
       "    <tr>\n",
       "      <th>39995</th>\n",
       "      <td>\"western union\" is something of a forgotten cl...</td>\n",
       "      <td>1</td>\n",
       "      <td>[western, union, someth, forgotten, classic, w...</td>\n",
       "      <td>70</td>\n",
       "      <td>535</td>\n",
       "      <td>6</td>\n",
       "    </tr>\n",
       "    <tr>\n",
       "      <th>39996</th>\n",
       "      <td>this movie is an incredible piece of work. it ...</td>\n",
       "      <td>1</td>\n",
       "      <td>[movi, incred, piec, work, explor, everi, nook...</td>\n",
       "      <td>27</td>\n",
       "      <td>192</td>\n",
       "      <td>5</td>\n",
       "    </tr>\n",
       "    <tr>\n",
       "      <th>39997</th>\n",
       "      <td>my wife and i watched this movie because we pl...</td>\n",
       "      <td>0</td>\n",
       "      <td>[wife, watch, movi, plan, visit, sicili, strom...</td>\n",
       "      <td>65</td>\n",
       "      <td>531</td>\n",
       "      <td>6</td>\n",
       "    </tr>\n",
       "    <tr>\n",
       "      <th>39998</th>\n",
       "      <td>when i first watched flatliners, i was amazed....</td>\n",
       "      <td>1</td>\n",
       "      <td>[first, watch, flatlin, amaz, necessari, featu...</td>\n",
       "      <td>17</td>\n",
       "      <td>130</td>\n",
       "      <td>2</td>\n",
       "    </tr>\n",
       "    <tr>\n",
       "      <th>39999</th>\n",
       "      <td>why would this film be so good, but only gross...</td>\n",
       "      <td>1</td>\n",
       "      <td>[would, film, good, gross, estim, 95000000, no...</td>\n",
       "      <td>63</td>\n",
       "      <td>404</td>\n",
       "      <td>9</td>\n",
       "    </tr>\n",
       "  </tbody>\n",
       "</table>\n",
       "<p>39723 rows × 6 columns</p>\n",
       "</div>"
      ],
      "text/plain": [
       "                                                    text  label  \\\n",
       "0      i grew up (b. 1965) watching and loving the th...      0   \n",
       "1      when i put this movie in my dvd player, and sa...      0   \n",
       "2      why do people who do not know what a particula...      0   \n",
       "3      even though i have great interest in biblical ...      0   \n",
       "4      i am a die hard dads army fan and nothing will...      1   \n",
       "...                                                  ...    ...   \n",
       "39995  \"western union\" is something of a forgotten cl...      1   \n",
       "39996  this movie is an incredible piece of work. it ...      1   \n",
       "39997  my wife and i watched this movie because we pl...      0   \n",
       "39998  when i first watched flatliners, i was amazed....      1   \n",
       "39999  why would this film be so good, but only gross...      1   \n",
       "\n",
       "                                              clean_text  total_words  \\\n",
       "0      [grew, b, 1965, watch, love, thunderbird, mate...           89   \n",
       "1      [put, movi, dvd, player, sat, coke, chip, expe...           94   \n",
       "2      [peopl, not, know, particular, time, past, lik...           96   \n",
       "3      [even, though, great, interest, biblic, movi, ...           34   \n",
       "4      [die, hard, dad, armi, fan, noth, ever, chang,...           57   \n",
       "...                                                  ...          ...   \n",
       "39995  [western, union, someth, forgotten, classic, w...           70   \n",
       "39996  [movi, incred, piec, work, explor, everi, nook...           27   \n",
       "39997  [wife, watch, movi, plan, visit, sicili, strom...           65   \n",
       "39998  [first, watch, flatlin, amaz, necessari, featu...           17   \n",
       "39999  [would, film, good, gross, estim, 95000000, no...           63   \n",
       "\n",
       "       total_char  total_sent  \n",
       "0             622          17  \n",
       "1             649           8  \n",
       "2             623           9  \n",
       "3             216           5  \n",
       "4             335           5  \n",
       "...           ...         ...  \n",
       "39995         535           6  \n",
       "39996         192           5  \n",
       "39997         531           6  \n",
       "39998         130           2  \n",
       "39999         404           9  \n",
       "\n",
       "[39723 rows x 6 columns]"
      ]
     },
     "execution_count": 35,
     "metadata": {},
     "output_type": "execute_result"
    }
   ],
   "source": []
  },
  {
   "cell_type": "code",
   "execution_count": null,
   "id": "e0a7b343-4495-429a-b739-febfd0213742",
   "metadata": {},
   "outputs": [],
   "source": []
  }
 ],
 "metadata": {
  "kernelspec": {
   "display_name": "Python 3 (ipykernel)",
   "language": "python",
   "name": "python3"
  },
  "language_info": {
   "codemirror_mode": {
    "name": "ipython",
    "version": 3
   },
   "file_extension": ".py",
   "mimetype": "text/x-python",
   "name": "python",
   "nbconvert_exporter": "python",
   "pygments_lexer": "ipython3",
   "version": "3.12.7"
  }
 },
 "nbformat": 4,
 "nbformat_minor": 5
}
